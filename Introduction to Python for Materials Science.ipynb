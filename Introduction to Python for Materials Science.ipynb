{
 "cells": [
  {
   "cell_type": "markdown",
   "metadata": {},
   "source": [
    "# Computational Skills for Materials Science\n",
    "\n",
    "## Session 1 - Introduction: coursework"
   ]
  },
  {
   "cell_type": "markdown",
   "metadata": {},
   "source": [
    "### Name: Siddharth Mahala\n"
   ]
  },
  {
   "cell_type": "markdown",
   "metadata": {
    "heading_collapsed": true
   },
   "source": [
    "###   Importing Modules \n",
    "The following modules are required for the coursework:\n",
    "\n",
    "`matplotlib.pyplot`\n",
    "`numpy`\n",
    "\n",
    "Import them in the cell below using the usual convention (`np` for `numpy` and `plt` for `matplotlib.pyplot`) :"
   ]
  },
  {
   "cell_type": "code",
   "execution_count": 2,
   "metadata": {},
   "outputs": [],
   "source": [
    "import numpy as np\n",
    "import matplotlib.pyplot as plt"
   ]
  },
  {
   "cell_type": "markdown",
   "metadata": {},
   "source": [
    "## <span style=\"color: red\"> Question 1: </span>  Use latex to rewrite the following equation in terms of y, i.e y=..."
   ]
  },
  {
   "cell_type": "markdown",
   "metadata": {},
   "source": [
    "$4y-12x+6yx=23 $"
   ]
  },
  {
   "cell_type": "markdown",
   "metadata": {},
   "source": [
    "$y=\\frac{23+12x}{4+6x} $"
   ]
  },
  {
   "cell_type": "markdown",
   "metadata": {},
   "source": [
    "## <span style=\"color: red\"> Question 2: </span> Display the image with the following url: \n",
    "'https://upload.wikimedia.org/wikipedia/commons/thumb/0/09/Glass_fracture.jpg/640px-Glass_fracture.jpg' \n",
    "## in a Markdown cell and give it the title 'Glass fracture' in heading level 3."
   ]
  },
  {
   "cell_type": "markdown",
   "metadata": {},
   "source": [
    "### Glass Fracture\n",
    "![Glass Fracture](https://upload.wikimedia.org/wikipedia/commons/thumb/0/09/Glass_fracture.jpg/640px-Glass_fracture.jpg)"
   ]
  },
  {
   "cell_type": "markdown",
   "metadata": {},
   "source": [
    "## <span style=\"color: red\"> Question 3: </span> : Using python for simple calculations"
   ]
  },
  {
   "cell_type": "markdown",
   "metadata": {},
   "source": [
    "#### 3.1 Write the formula for the perimeter of a circle using LaTex"
   ]
  },
  {
   "cell_type": "markdown",
   "metadata": {},
   "source": [
    "$perimeter= 2\\pi r $"
   ]
  },
  {
   "cell_type": "markdown",
   "metadata": {},
   "source": [
    "####  3.2 A circle has a radius of 2mm. Calculate the perimeter of the circle and print the result in format of float to 3 places after the decimal and its unit."
   ]
  },
  {
   "cell_type": "code",
   "execution_count": 5,
   "metadata": {},
   "outputs": [
    {
     "name": "stdout",
     "output_type": "stream",
     "text": [
      "Perimeter is: 12.566 mm\n"
     ]
    }
   ],
   "source": [
    "radius=2\n",
    "Perimeter=2*np.pi*radius\n",
    "print(\"Perimeter is: {:.3f} mm\" .format(Perimeter))"
   ]
  },
  {
   "cell_type": "markdown",
   "metadata": {},
   "source": [
    "####  3.3 Using the list below calculate the average and the standard deviation"
   ]
  },
  {
   "cell_type": "code",
   "execution_count": 6,
   "metadata": {},
   "outputs": [],
   "source": [
    "list_of_values=[1010,1008,1011,1009,1000,1012,1009,1013,1003,1004,1005,1000,1003,1008,1015,1016,1014,1019,1005,1002]"
   ]
  },
  {
   "cell_type": "code",
   "execution_count": 7,
   "metadata": {},
   "outputs": [
    {
     "name": "stdout",
     "output_type": "stream",
     "text": [
      "Average: 1008.30\n",
      "Standard Deviation: 5.35\n"
     ]
    }
   ],
   "source": [
    "list_of_values=[1010,1008,1011,1009,1000,1012,1009,1013,1003,1004,1005,1000,1003,1008,1015,1016,1014,1019,1005,1002]\n",
    "average= sum(list_of_values) / len(list_of_values)\n",
    "print('Average: {:.2f}'. format(average))\n",
    "SD= np.std(list_of_values)\n",
    "print('Standard Deviation: {:.2f}' .format(SD))"
   ]
  },
  {
   "cell_type": "markdown",
   "metadata": {},
   "source": [
    "## <span style=\"color: red\"> Question 4: </span>: Plotting "
   ]
  },
  {
   "cell_type": "markdown",
   "metadata": {},
   "source": [
    "Make plots appear inside the notebook:"
   ]
  },
  {
   "cell_type": "code",
   "execution_count": 10,
   "metadata": {},
   "outputs": [],
   "source": [
    "%matplotlib inline"
   ]
  },
  {
   "cell_type": "markdown",
   "metadata": {},
   "source": [
    "### Using the lists of stress and strain values given below:\n",
    "\n",
    "#### 4.1. Sort out the values in ascending order and assign the new arrays to be **\"true_strain\"** and **\"true_stress_1\"** \n",
    "\n",
    "\n",
    "#### 4.2. Plot true_stress_1 (y-axis) against true_strain (x-axis) with a title as 'Tensile Stress-Strain Curve' \n",
    "\n",
    "\n",
    "#### 4.3. Label the y-axis as 'True Stress (MPa)' and the x-axis as 'True Strain [-]' \n"
   ]
  },
  {
   "cell_type": "code",
   "execution_count": 14,
   "metadata": {},
   "outputs": [],
   "source": [
    "strain = [0.0748, 0.0997, 0.0109, 0.0449, 0.0948, 0.0798, 0.0698, 0.0029, 0.0159, 0.0179, 0.0094, \n",
    "        0.0499, 0.0079, 0.0099, 0.0129, 0.0848, 0.0548, 0.0139, 0.0019, 0.0089, 0.0598, 0.0648, \n",
    "        0.0224, 0.0124, 0.0898, 0.0114, 0.0274, 0.0249, 0.0069, 0.0299, 0.0119, 0.0, 0.0199, \n",
    "        0.0349, 0.0049, 0.0039, 0.0059, 0.0104, 0.0009, 0.0399]\n",
    "stress = [1133.0, 1147.0, 1077.0, 189.0, 1122.0, 1293.0, 1100.0, 1095.0, 1171.0, 1210.0, 1339.0, \n",
    "        1035.0, 1118.0, 1105.0, 1498.0, 818.0, 1475.0, 1114.0, 1110.0, 1159.0, 1407.0, 1270.0, 1247.0, \n",
    "        0.0, 1430.0, 1453.0, 1544.0, 399.0, 1126.0, 1521.0, 1362.0, 1184.0, 1223.0, 1060.0, 1316.0, \n",
    "        1197.0, 977.0, 1089.0, 1384.0, 609.0]"
   ]
  },
  {
   "cell_type": "code",
   "execution_count": 15,
   "metadata": {},
   "outputs": [
    {
     "data": {
      "text/plain": [
       "Text(0, 0.5, 'True Stress (MPa)')"
      ]
     },
     "execution_count": 15,
     "metadata": {},
     "output_type": "execute_result"
    },
    {
     "data": {
      "image/png": "[encoded data removed]",
      "text/plain": [
       "<Figure size 432x288 with 1 Axes>"
      ]
     },
     "metadata": {
      "needs_background": "light"
     },
     "output_type": "display_data"
    }
   ],
   "source": [
    "true_strain=np.sort(strain)\n",
    "true_stress_1=np.sort(stress)\n",
    "\n",
    "\n",
    "plt.plot(true_strain, true_stress_1)\n",
    "plt.title('Tensile Stress-Strain Curve')\n",
    "plt.xlabel('True Strain[-]')\n",
    "plt.ylabel('True Stress (MPa)')"
   ]
  },
  {
   "cell_type": "markdown",
   "metadata": {},
   "source": [
    "### Using the new experimental data **true_stress_2** given below\n"
   ]
  },
  {
   "cell_type": "code",
   "execution_count": 14,
   "metadata": {},
   "outputs": [],
   "source": [
    "true_stress_2 = [    0.,    190.8,   402.8,   614.8,   825.8,   986.8,  1046.8,  1073.8,  1092.8,\n",
    "  1106.8,  1113.8,  1119.8,  1125.8,  1131.8,  1136.8,  1141.8,  1146.8,  1151.8,\n",
    "  1160.8,  1178.8,  1194.8,  1210.8,  1228.8,  1246.8,  1264.8,  1282.8,  1316.8,\n",
    "  1349.8,  1382.8,  1415.8,  1448.6,  1481.6,  1513.6,  1546.6,  1579.6,  1612.6,\n",
    "  1644.6,  1677.6,  1710.6,  1743.4]"
   ]
  },
  {
   "cell_type": "markdown",
   "metadata": {},
   "source": [
    "#### 4.4. Plot true_stress_2 (y-axis) against true_strain (x-axis) in the same plot with true_stress_1 \n",
    "\n",
    "\n",
    "#### 4.5. Add a legend to the plot"
   ]
  },
  {
   "cell_type": "code",
   "execution_count": 17,
   "metadata": {},
   "outputs": [
    {
     "data": {
      "text/plain": [
       "<matplotlib.legend.Legend at 0x19fb33b0160>"
      ]
     },
     "execution_count": 17,
     "metadata": {},
     "output_type": "execute_result"
    },
    {
     "data": {
      "image/png": "[encoded data removed]",
      "text/plain": [
       "<Figure size 432x288 with 1 Axes>"
      ]
     },
     "metadata": {
      "needs_background": "light"
     },
     "output_type": "display_data"
    }
   ],
   "source": [
    "true_stress_2 = [    0.,    190.8,   402.8,   614.8,   825.8,   986.8,  1046.8,  1073.8,  1092.8,\n",
    "  1106.8,  1113.8,  1119.8,  1125.8,  1131.8,  1136.8,  1141.8,  1146.8,  1151.8,\n",
    "  1160.8,  1178.8,  1194.8,  1210.8,  1228.8,  1246.8,  1264.8,  1282.8,  1316.8,\n",
    "  1349.8,  1382.8,  1415.8,  1448.6,  1481.6,  1513.6,  1546.6,  1579.6,  1612.6,\n",
    "  1644.6,  1677.6,  1710.6,  1743.4]\n",
    "true_stress_2=np.sort(true_stress_2)\n",
    "\n",
    "plt.plot(true_strain, true_stress_1, \"b\", label=\"true_stress_1\")\n",
    "plt.plot(true_strain, true_stress_2, \"g\",  label=\"true_stress_2\")\n",
    "plt.title('Tensile Stress-Strain Curve')\n",
    "plt.xlabel('True Strain [-2]')\n",
    "plt.ylabel('True Stress (MPa)')\n",
    "plt.legend(loc=\"upper left\")\n"
   ]
  },
  {
   "cell_type": "markdown",
   "metadata": {
    "collapsed": true
   },
   "source": [
    "## <span style=\"color: red\"> Question 5: </span>: Manipulating 2D arrays\n",
    "\n",
    "Using __iteration and conditionals__, create the 3 2D arrays below and visualize them using `matshow`. \n",
    "<figure>\n",
    "<img src=\"3d_array_example.png\" width='800'>\n",
    "<figcaption></figcaption>\n",
    "</figure>\n",
    "\n",
    "where red=0 and blue=1.\n",
    "\n"
   ]
  },
  {
   "cell_type": "code",
   "execution_count": 33,
   "metadata": {},
   "outputs": [
    {
     "name": "stdout",
     "output_type": "stream",
     "text": [
      "ArrayD (Checkerboard Pattern):\n",
      "[[1. 0. 1. 0. 1. 0. 1.]\n",
      " [0. 1. 0. 1. 0. 1. 0.]\n",
      " [1. 0. 1. 0. 1. 0. 1.]\n",
      " [0. 1. 0. 1. 0. 1. 0.]\n",
      " [1. 0. 1. 0. 1. 0. 1.]\n",
      " [0. 1. 0. 1. 0. 1. 0.]\n",
      " [1. 0. 1. 0. 1. 0. 1.]]\n",
      "\n",
      "ArrayE (Horizontal Stripes):\n",
      "[[1. 1. 1. 1. 1. 1. 1.]\n",
      " [0. 0. 0. 0. 0. 0. 0.]\n",
      " [1. 1. 1. 1. 1. 1. 1.]\n",
      " [0. 0. 0. 0. 0. 0. 0.]\n",
      " [1. 1. 1. 1. 1. 1. 1.]\n",
      " [0. 0. 0. 0. 0. 0. 0.]\n",
      " [1. 1. 1. 1. 1. 1. 1.]]\n",
      "\n",
      "ArrayF (Red Square in the Middle):\n",
      "[[0. 0. 0. 0. 0. 0. 0.]\n",
      " [0. 0. 0. 0. 0. 0. 0.]\n",
      " [0. 0. 1. 1. 1. 0. 0.]\n",
      " [0. 0. 1. 1. 1. 0. 0.]\n",
      " [0. 0. 1. 1. 1. 0. 0.]\n",
      " [0. 0. 0. 0. 0. 0. 0.]\n",
      " [0. 0. 0. 0. 0. 0. 0.]]\n"
     ]
    },
    {
     "data": {
      "image/png": "[encoded data removed]",
      "text/plain": [
       "<Figure size 720x216 with 3 Axes>"
      ]
     },
     "metadata": {
      "needs_background": "light"
     },
     "output_type": "display_data"
    }
   ],
   "source": [
    "import numpy as np\n",
    "import matplotlib.pyplot as plt\n",
    "\n",
    "# Create a 7x7 array for each pattern\n",
    "arrayD = np.zeros((7, 7))\n",
    "arrayE = np.zeros((7, 7))\n",
    "arrayF = np.zeros((7, 7))\n",
    "\n",
    "# Pattern for arrayD (Checkerboard pattern)\n",
    "for i in range(7):\n",
    "    for j in range(7):\n",
    "        if (i + j) % 2 == 0:\n",
    "            arrayD[i, j] = 1  # Set to 1 for red squares (alternating checkerboard)\n",
    "        else:\n",
    "            arrayD[i, j] = 0  # Set to 0 for blue squares\n",
    "\n",
    "# Pattern for arrayE (Alternating horizontal stripes)\n",
    "for i in range(7):\n",
    "    for j in range(7):\n",
    "        if i % 2 == 0:\n",
    "            arrayE[i, j] = 1  # Set to 1 for red stripes\n",
    "        else:\n",
    "            arrayE[i, j] = 0  # Set to 0 for blue stripes\n",
    "\n",
    "# Pattern for arrayF (Red square in the middle)\n",
    "for i in range(7):\n",
    "    for j in range(7):\n",
    "        if 2 <= i <= 4 and 2 <= j <= 4:\n",
    "            arrayF[i, j] = 1  # Set to 1 for the inner red square\n",
    "        else:\n",
    "            arrayF[i, j] = 0  # Set to 0 for blue background\n",
    "\n",
    "# Print the arrays with 0 and 1 values\n",
    "print(\"ArrayD (Checkerboard Pattern):\")\n",
    "print(arrayD)\n",
    "print(\"\\nArrayE (Horizontal Stripes):\")\n",
    "print(arrayE)\n",
    "print(\"\\nArrayF (Red Square in the Middle):\")\n",
    "print(arrayF)\n",
    "\n",
    "# Plotting the arrays\n",
    "fig, axes = plt.subplots(1, 3, figsize=(10, 3))\n",
    "\n",
    "# Plot arrayD (Checkerboard pattern)\n",
    "axes[0].imshow(arrayD, cmap='bwr', interpolation='nearest')\n",
    "axes[0].set_title('arrayD')\n",
    "\n",
    "# Plot arrayE (Horizontal stripes)\n",
    "axes[1].imshow(arrayE, cmap='bwr', interpolation='nearest')\n",
    "axes[1].set_title('arrayE')\n",
    "\n",
    "# Plot arrayF (Red square in the middle)\n",
    "axes[2].imshow(arrayF, cmap='bwr', interpolation='nearest')\n",
    "axes[2].set_title('arrayF')\n",
    "\n",
    "# Display the plots\n",
    "plt.tight_layout()\n",
    "plt.show()"
   ]
  }
 ],
 "metadata": {
  "anaconda-cloud": {},
  "kernelspec": {
   "display_name": "Python 3",
   "language": "python",
   "name": "python3"
  },
  "language_info": {
   "codemirror_mode": {
    "name": "ipython",
    "version": 3
   },
   "file_extension": ".py",
   "mimetype": "text/x-python",
   "name": "python",
   "nbconvert_exporter": "python",
   "pygments_lexer": "ipython3",
   "version": "3.8.3"
  }
 },
 "nbformat": 4,
 "nbformat_minor": 1
}
